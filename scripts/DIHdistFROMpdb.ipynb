{
 "cells": [
  {
   "cell_type": "code",
   "execution_count": 1,
   "metadata": {},
   "outputs": [],
   "source": [
    "import matplotlib.pyplot as plt\n",
    "import numpy as np\n",
    "\n",
    "def make_positive_angles(x):\n",
    "    for i in range(len(x)):\n",
    "        if x[i] < 0:\n",
    "            x[i] = x[i] + 360\n",
    "        else:\n",
    "            x[i] = x[i]\n",
    "    return x"
   ]
  },
  {
   "cell_type": "code",
   "execution_count": 2,
   "metadata": {},
   "outputs": [
    {
     "data": {
      "image/png": "[encoded data removed]",
      "text/plain": [
       "<matplotlib.figure.Figure at 0x7f6e91d3b898>"
      ]
     },
     "metadata": {
      "needs_background": "light"
     },
     "output_type": "display_data"
    }
   ],
   "source": [
    "lipids = [\"ps\", \"pc\", \"pg\", \"pe\"]\n",
    "#files = [\"../Data/PDBdistributions/ps_parsed.csv\", \"../Data/PDBdistributions/pc_parsed.csv\", \"../Data/PDBdistributions/pe_parsed.csv\", \"../Data/PDBdistributions/pg_parsed.csv\"]\n",
    "\n",
    "sum = {\"ps\":0, \"pc\":0, \"pg\":0, \"pe\":0}\n",
    "\n",
    "dihedrals = {\"dih1\":7, \"dih2\":8, \"dih3\":9, \"dih4\":10, \"dih5\":11, \"dih6\":12}\n",
    "\n",
    "\n",
    "for lipid in lipids:\n",
    "    dih = {\"dih1\":[], \"dih2\":[], \"dih3\":[], \"dih4\":[], \"dih5\":[], \"dih6\":[]}\n",
    "    filename = \"../Data/PDBdistributions/\" + lipid + \"_parsed.csv\"\n",
    "    with open(filename, \"r\") as file:\n",
    "        lines=file.readlines()[1:]\n",
    "        for line in lines:\n",
    "            resolution = float(line.split()[4])\n",
    "            if resolution < 3.2:\n",
    "                for dihedral in dihedrals:\n",
    "                    column = dihedrals[dihedral]\n",
    "                    dih[dihedral].append(float(line.split()[column]))\n",
    "                    sum[lipid] = sum[lipid] + 1/6\n",
    "        for dihedral in dihedrals:\n",
    "            dist = plt.hist(make_positive_angles(dih[dihedral]), bins=range(-10,370,20), density=True)\n",
    "            outfile=open('../Data/' + lipid + dihedral + '.dat','w')\n",
    "            outfile.write(str(0) + \" \" + str(dist[0][0]+dist[0][-1]) + \"\\n\")\n",
    "            for i in range(1,len(dist[0])-1):\n",
    "                #print(str(dist[1][i]),str(dist[0][i]))\n",
    "                outfile.write(str(dist[1][i]+10) + \" \" + str(dist[0][i]) + \"\\n\")\n",
    "            outfile.write(str(360) + \" \" + str(dist[0][0]+dist[0][-1]) + \"\\n\")\n",
    "            outfile.close()"
   ]
  },
  {
   "cell_type": "code",
   "execution_count": 29,
   "metadata": {
    "scrolled": true
   },
   "outputs": [
    {
     "data": {
      "text/plain": [
       "{'pc': 311.0000000000004,\n",
       " 'pe': 394.00000000000983,\n",
       " 'pg': 154.99999999999991,\n",
       " 'ps': 35.00000000000004}"
      ]
     },
     "execution_count": 29,
     "metadata": {},
     "output_type": "execute_result"
    }
   ],
   "source": [
    "sum"
   ]
  },
  {
   "cell_type": "code",
   "execution_count": 31,
   "metadata": {},
   "outputs": [
    {
     "data": {
      "text/plain": [
       "(array([0.        , 0.00208333, 0.00520833, 0.003125  , 0.00208333,\n",
       "        0.        , 0.003125  , 0.00104167, 0.00104167, 0.00729167,\n",
       "        0.00416667, 0.00208333, 0.        , 0.00729167, 0.003125  ,\n",
       "        0.00416667, 0.00208333, 0.00208333, 0.        ]),\n",
       " array([  0,  20,  40,  60,  80, 100, 120, 140, 160, 180, 200, 220, 240,\n",
       "        260, 280, 300, 320, 340, 360, 380]),\n",
       " <a list of 19 Patch objects>)"
      ]
     },
     "execution_count": 31,
     "metadata": {},
     "output_type": "execute_result"
    }
   ],
   "source": [
    "dist"
   ]
  },
  {
   "cell_type": "code",
   "execution_count": null,
   "metadata": {},
   "outputs": [],
   "source": []
  }
 ],
 "metadata": {
  "kernelspec": {
   "display_name": "Python 3",
   "language": "python",
   "name": "python3"
  },
  "language_info": {
   "codemirror_mode": {
    "name": "ipython",
    "version": 3
   },
   "file_extension": ".py",
   "mimetype": "text/x-python",
   "name": "python",
   "nbconvert_exporter": "python",
   "pygments_lexer": "ipython3",
   "version": "3.5.2"
  }
 },
 "nbformat": 4,
 "nbformat_minor": 2
}

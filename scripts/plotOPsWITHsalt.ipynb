{
 "cells": [
  {
   "cell_type": "code",
   "execution_count": 1,
   "metadata": {},
   "outputs": [],
   "source": [
    "import os\n",
    "import numpy as np\n",
    "\n",
    "import yaml\n",
    "import json\n",
    "import matplotlib.pyplot as plt\n",
    "import mdtraj\n",
    "import urllib.request\n",
    "import seaborn as sns\n",
    "\n",
    "from OrderParameter import *\n",
    "\n",
    "# Download link\n",
    "def download_link(doi, file):\n",
    "    if \"zenodo\" in doi.lower():\n",
    "        zenodo_entry_number = doi.split(\".\")[2]\n",
    "        return 'https://zenodo.org/record/' + zenodo_entry_number + '/files/' + file\n",
    "    else:\n",
    "        print (\"DOI provided: {0}\".format(doi))\n",
    "        print (\"Repository not validated. Please upload the data for example to zenodo.org\")\n",
    "        return \"\"\n",
    "    \n",
    "# read mapping file\n",
    "def read_mapping_file(mapping_file, atom1):\n",
    "    with open(mapping_file, 'rt') as mapping_file:\n",
    "            for line in mapping_file:\n",
    "                if atom1 in line:\n",
    "                    m_atom1 = line.split()[1]\n",
    "    return m_atom1\n",
    "\n",
    "def read_mapping_filePAIR(mapping_file, atom1, atom2):\n",
    "    with open(mapping_file, 'rt') as mapping_file:\n",
    "            print(mapping_file)\n",
    "            for line in mapping_file:\n",
    "                if atom1 in line:\n",
    "                    m_atom1 = line.split()[1]\n",
    "#                    print(m_atom1)\n",
    "                if atom2 in line: \n",
    "                    m_atom2 = line.split()[1]\n",
    "#                    print(m_atom2)\n",
    "    return m_atom1, m_atom2\n",
    "\n",
    "def make_positive_angles(x):\n",
    "    for i in range(len(x)):\n",
    "        if x[i] < 0:\n",
    "            x[i] = np.degrees(x[i]) + 360\n",
    "        else:\n",
    "            x[i] = np.degrees(x[i])\n",
    "    return x"
   ]
  },
  {
   "cell_type": "code",
   "execution_count": 2,
   "metadata": {},
   "outputs": [],
   "source": [
    "## Order parameter changes upon addition of CaCl_2 in all POPC:POPG mixtures "
   ]
  },
  {
   "cell_type": "code",
   "execution_count": 3,
   "metadata": {},
   "outputs": [
    {
     "name": "stdout",
     "output_type": "stream",
     "text": [
      "Somenthing wrong with molecule numbers in../Data/Simulations/902/649/90264920ee5640b7c18082ff86a7fcc0b9bd75ea/b6e03a197721f25e989d3452166ec5f88ca0aae4\n",
      "Order parameter file not found\n",
      "Order parameter file not found\n",
      "Somenthing wrong with molecule numbers in../Data/Simulations/4fb/255/4fb255b704c3d6a78c006a1b068e14c659d9667b/8e7e5deb23cdd19f7239116293ccf2a7995ecbbb\n",
      "Somenthing wrong with molecule numbers in../Data/Simulations/e24/62a/e2462abc0128804263156d1f68638eb22de0ada6/fd4e6f8ed63c831f7b8bef6c2e22a887e49f73f9\n",
      "Somenthing wrong with molecule numbers in../Data/Simulations/72c/a50/72ca507d6c27e37f020ca31197879b41f45a150a/66d5aff21e8512a9bec660eda244715dfd9eebe7\n",
      "Somenthing wrong with molecule numbers in../Data/Simulations/c74/6ca/c746ca52b71d685e53a802e8046e1253baf6af2b/8850a90345eb033df4ae3228c3b9fa1fbbe40162\n",
      "Order parameter file not found\n",
      "Order parameter file not found\n",
      "Somenthing wrong with molecule numbers in../Data/Simulations/944/25d/94425d6fcd0a0716ffd72d8908daff83a5ec6772/db9102a50e078ee7769b908aef3ad900f9172ae4\n"
     ]
    },
    {
     "data": {
      "text/plain": [
       "<Figure size 720x504 with 0 Axes>"
      ]
     },
     "metadata": {},
     "output_type": "display_data"
    }
   ],
   "source": [
    "colors = {'POPC' :'black','POPS':'red','POPE':'blue','POPG':'green'}\n",
    "markers = {'POPC' :'s','POPS':'o','POPE':'o','POPG':'s'}\n",
    "lipids = ['POPC','POPG']\n",
    "#DOIs = {'POPC' :'10.5281/zenodo.3474862','POPG' :'10.5281/zenodo.1011096','POPS' :'10.5281/zenodo.1129415','POPE' :'10.5281/zenodo.2641987'}\n",
    "\n",
    "results = {}\n",
    "resultsPOPG = {}\n",
    "\n",
    "fig= plt.figure(figsize=(10,7))\n",
    "for subdir, dirs, files in os.walk(r'../Data/Simulations/'):\n",
    "    for filename in files:\n",
    "        filepath = subdir + os.sep + filename\n",
    "        if filepath.endswith(\"README.yaml\"):\n",
    "            READMEfilepath = subdir + '/README.yaml'\n",
    "            with open(READMEfilepath) as yaml_file:\n",
    "                readme = yaml.load(yaml_file, Loader=yaml.FullLoader)\n",
    "                Nlipids = [readme.get('N' + lipids[0])[0],readme.get('N' + lipids[1])[0]]\n",
    "                #print(Nlipids)\n",
    "                if Nlipids[0] > 0 and Nlipids[1] > 0:\n",
    "                    #print(subdir)\n",
    "                    try:\n",
    "                        CaConcentration = readme.get('NCAL') * 55.5 / readme.get('NSOL')\n",
    "                    except:\n",
    "                        print('Somenthing wrong with molecule numbers in' + subdir)\n",
    "                    lipidsRATIO = 100* Nlipids[1] / (Nlipids[0] + Nlipids[1])\n",
    "                    forcefield = readme.get('FF')\n",
    "                    OPfilepath = subdir + '/POPCOrderParameters.json'\n",
    "                    OPfilepathPOPG = subdir + '/POPGOrderParameters.json'\n",
    "                    try :\n",
    "                        with open(OPfilepath) as json_file:\n",
    "                            data = json.load(json_file)\n",
    "                            results[lipidsRATIO,CaConcentration,forcefield] = data\n",
    "                    except :\n",
    "                        print('Order parameter file not found')\n",
    "                    try :\n",
    "                        with open(OPfilepathPOPG) as json_file:\n",
    "                            data = json.load(json_file)\n",
    "                            resultsPOPG[lipidsRATIO,CaConcentration,forcefield] = data\n",
    "                    except :\n",
    "                        print('Order parameter file not found')\n",
    "                    #print(data)\n",
    "                    #BetaANDalphaOPs = [data['M_G3C5_M M_G3C5H1_M'],data['M_G3C5_M M_G3C5H2_M'],data['M_G3C4_M M_G3C4H1_M'],data['M_G3C4_M M_G3C4H2_M']]\n",
    "                    \n",
    "                    #print(readme.get('NPOPC')[0], readme.get('NPOPG')[0], readme.get('NCAL'))\n",
    "                    #print(readme)\n",
    "\n",
    "for key in results:\n",
    "    outfile=open('../Data/' + str(key[2]) + str(int(round(key[0]))) + str(lipids[1]) + 'withCaCl.dat','w')\n",
    "    outfile.write('#[CaCl]           M_G1C4_M M_G1C4H1_M                M_G1C4_M M_G1C4H2_M \\n')\n",
    "    outfile.close()\n",
    "                    \n",
    "for key in results:\n",
    "    outfile=open('../Data/' + str(key[2]) + str(int(round(key[0]))) + str(lipids[1]) + 'withCaCl.dat','a')\n",
    "    #Lipid2cont = int(round(key[0]))\n",
    "    #CaConsentration = key[1]\n",
    "    outfile.write(str(round(key[1],3)) + \" \" + str(results[key]['M_G3C4_M M_G3C4H1_M'][0][0]) +  \" \" + str(results[key]['M_G3C4_M M_G3C4H1_M'][0][2]) + \"  \")                \n",
    "    outfile.write(\" \" + str(results[key]['M_G3C4_M M_G3C4H2_M'][0][0]) +  \" \" + str(results[key]['M_G3C4_M M_G3C4H2_M'][0][2]) + \"  \")\n",
    "    outfile.write(\" \" + str(results[key]['M_G3C5_M M_G3C5H1_M'][0][0]) +  \" \" + str(results[key]['M_G3C5_M M_G3C5H1_M'][0][2]) + \"  \")\n",
    "    outfile.write(\" \" + str(results[key]['M_G3C5_M M_G3C5H2_M'][0][0]) +  \" \" + str(results[key]['M_G3C5_M M_G3C5H2_M'][0][2]) + \"  \")\n",
    "    outfile.write(\" \" + str(resultsPOPG[key]['M_G3C4_M M_G3C4H1_M'][0][0]) +  \" \" + str(resultsPOPG[key]['M_G3C4_M M_G3C4H1_M'][0][2]) + \"  \")                \n",
    "    outfile.write(\" \" + str(resultsPOPG[key]['M_G3C4_M M_G3C4H2_M'][0][0]) +  \" \" + str(resultsPOPG[key]['M_G3C4_M M_G3C4H2_M'][0][2]) + \"  \")\n",
    "    outfile.write(\" \" + str(resultsPOPG[key]['M_G3C5_M M_G3C5H1_M'][0][0]) +  \" \" + str(resultsPOPG[key]['M_G3C5_M M_G3C5H1_M'][0][2]) + \"  \")\n",
    "    #outfile.write(\" \" + str(resultsPOPG[key]['M_G3C5_M M_G3C5H2_M'][0][0]) +  \" \" + str(resultsPOPG[key]['M_G3C5_M M_G3C5H2_M'][0][2]) + \"  \")\n",
    "    outfile.write('\\n')\n",
    "    outfile.close()\n",
    "    !sort {'../Data/' + str(key[2]) + str(int(round(key[0]))) + str(lipids[1]) + 'withCaCl.dat'} -o {'../Data/' + str(key[2]) + str(int(round(key[0]))) + str(lipids[1]) + 'withCaCl.dat'}\n",
    "#plt.legend(loc='best',ncol=2, fontsize=15)\n",
    "#plt.ylabel('S_CH', fontsize=20)\n",
    "#plt.xticks(fontsize=20)\n",
    "#plt.yticks(fontsize=20)\n",
    "##plt.savefig('../Figs/CHARMMfromLIPIDS.eps', bbox_inches='tight')"
   ]
  },
  {
   "cell_type": "markdown",
   "metadata": {},
   "source": [
    "## Plot order parameters for each simulation"
   ]
  },
  {
   "cell_type": "code",
   "execution_count": null,
   "metadata": {},
   "outputs": [],
   "source": []
  },
  {
   "cell_type": "code",
   "execution_count": 6,
   "metadata": {},
   "outputs": [
    {
     "ename": "FileNotFoundError",
     "evalue": "[Errno 2] No such file or directory: '../Data/Simulations/1af/8f6/1af8f6529627bed6a08027160f933a8ac5c5b86b/986ca46503349f7466c65e0dc3e2471376de1a28/OrderParameters.json'",
     "output_type": "error",
     "traceback": [
      "\u001b[0;31m---------------------------------------------------------------------------\u001b[0m",
      "\u001b[0;31mFileNotFoundError\u001b[0m                         Traceback (most recent call last)",
      "\u001b[0;32m<ipython-input-6-9a8badc10892>\u001b[0m in \u001b[0;36m<module>\u001b[0;34m()\u001b[0m\n\u001b[1;32m     18\u001b[0m                     \u001b[0;31m#print(OPfilepath)\u001b[0m\u001b[0;34m\u001b[0m\u001b[0;34m\u001b[0m\u001b[0;34m\u001b[0m\u001b[0m\n\u001b[1;32m     19\u001b[0m                     \u001b[0;31m#print(readme.get('SYSTEM'))\u001b[0m\u001b[0;34m\u001b[0m\u001b[0;34m\u001b[0m\u001b[0;34m\u001b[0m\u001b[0m\n\u001b[0;32m---> 20\u001b[0;31m                     \u001b[0;32mwith\u001b[0m \u001b[0mopen\u001b[0m\u001b[0;34m(\u001b[0m\u001b[0mOPfilepath\u001b[0m\u001b[0;34m)\u001b[0m \u001b[0;32mas\u001b[0m \u001b[0mjson_file\u001b[0m\u001b[0;34m:\u001b[0m\u001b[0;34m\u001b[0m\u001b[0;34m\u001b[0m\u001b[0m\n\u001b[0m\u001b[1;32m     21\u001b[0m                         \u001b[0mdata\u001b[0m \u001b[0;34m=\u001b[0m \u001b[0mjson\u001b[0m\u001b[0;34m.\u001b[0m\u001b[0mload\u001b[0m\u001b[0;34m(\u001b[0m\u001b[0mjson_file\u001b[0m\u001b[0;34m)\u001b[0m\u001b[0;34m\u001b[0m\u001b[0;34m\u001b[0m\u001b[0m\n\u001b[1;32m     22\u001b[0m                     \u001b[0;32mfor\u001b[0m \u001b[0mkey\u001b[0m\u001b[0;34m,\u001b[0m\u001b[0mvalue\u001b[0m \u001b[0;32min\u001b[0m \u001b[0mdata\u001b[0m\u001b[0;34m.\u001b[0m\u001b[0mitems\u001b[0m\u001b[0;34m(\u001b[0m\u001b[0;34m)\u001b[0m\u001b[0;34m:\u001b[0m\u001b[0;34m\u001b[0m\u001b[0;34m\u001b[0m\u001b[0m\n",
      "\u001b[0;31mFileNotFoundError\u001b[0m: [Errno 2] No such file or directory: '../Data/Simulations/1af/8f6/1af8f6529627bed6a08027160f933a8ac5c5b86b/986ca46503349f7466c65e0dc3e2471376de1a28/OrderParameters.json'"
     ]
    },
    {
     "data": {
      "image/png": "[encoded data removed]",
      "text/plain": [
       "<Figure size 576x360 with 1 Axes>"
      ]
     },
     "metadata": {},
     "output_type": "display_data"
    }
   ],
   "source": [
    "../Data/#mapping_file = './mapping_files/'+readme['MAPPING_DICT'][molname] # readme.get('MAPPING')[0][0]\n",
    "colors = {'POPC' :'black','POPS':'red','POPE':'blue','POPG':'green'}\n",
    "lipids = {'POPC','POPS','POPE','POPG'}\n",
    "\n",
    "\n",
    "fig= plt.figure(figsize=(8,5))\n",
    "for subdir, dirs, files in os.walk(r'../Data/Simulations/'):\n",
    "    for filename in files:\n",
    "        filepath = subdir + os.sep + filename\n",
    "        if filepath.endswith(\"README.yaml\"):\n",
    "            READMEfilepath = subdir + '/README.yaml'\n",
    "            with open(READMEfilepath) as yaml_file:\n",
    "                readme = yaml.load(yaml_file, Loader=yaml.FullLoader)\n",
    "               # print(readme)\n",
    "            for lipid in lipids:\n",
    "                if lipid in readme.get('SYSTEM') and sum(readme['N' + lipid]) > 0:\n",
    "                    OPfilepath = subdir + '/OrderParameters.json'\n",
    "                    #print(OPfilepath)\n",
    "                    #print(readme.get('SYSTEM'))\n",
    "                    with open(OPfilepath) as json_file:\n",
    "                        data = json.load(json_file)\n",
    "                    for key,value in data.items():\n",
    "                       #print (key,value[0][0],value[0][2])\n",
    "                        plt.gca().invert_yaxis()\n",
    "                        plt.ylabel('S_CH')\n",
    "                        \n",
    "                        if lipid == 'POPG' and 'M_G3C6_M' in key:\n",
    "                            plt.plot(0,value[0][0],\"s\",color=colors[lipid])\n",
    "                            plt.errorbar(0,value[0][0],yerr=value[0][2],color=colors[lipid])\n",
    "                        if 'M_G3N6' in key:\n",
    "                            plt.plot(0,value[0][0],\"s\",color=colors[lipid])\n",
    "                            plt.errorbar(0,value[0][0],yerr=value[0][2],color=colors[lipid])\n",
    "                        if 'M_G3C5_M' in key:\n",
    "                            plt.plot(1,value[0][0],\"s\",color=colors[lipid],label=readme.get('SYSTEM'))\n",
    "                            plt.errorbar(1,value[0][0],yerr=value[0][2],color=colors[lipid])\n",
    "                        if 'M_G3C4_M' in key:\n",
    "                            plt.plot(2,value[0][0],\"s\",color=colors[lipid])\n",
    "                            plt.errorbar(2,value[0][0],yerr=value[0][2],color=colors[lipid])\n",
    "                        if 'M_G3_M' in key:\n",
    "                            plt.plot(3,value[0][0],\"s\",color=colors[lipid])\n",
    "                            plt.errorbar(3,value[0][0],yerr=value[0][2],color=colors[lipid])\n",
    "                        if 'M_G2_M' in key:\n",
    "                            plt.plot(4,value[0][0],\"s\",color=colors[lipid])\n",
    "                            plt.errorbar(4,value[0][0],yerr=value[0][2],color=colors[lipid])\n",
    "                        if 'M_G1_M' in key:\n",
    "                            plt.plot(5,value[0][0],\"s\",color=colors[lipid])\n",
    "                            plt.errorbar(5,value[0][0],yerr=value[0][2],color=colors[lipid])\n",
    "            \n",
    "plt.legend(loc='best',ncol=2)\n",
    "#plt.savefig('/media/akiirikk/DATADRIVE1/tietokanta/NMRlipidsIVPEandPG/Figs/CHARMMfromLIPIDS.eps')\n",
    "                    "
   ]
  },
  {
   "cell_type": "code",
   "execution_count": null,
   "metadata": {},
   "outputs": [],
   "source": []
  }
 ],
 "metadata": {
  "kernelspec": {
   "display_name": "Python 3",
   "language": "python",
   "name": "python3"
  },
  "language_info": {
   "codemirror_mode": {
    "name": "ipython",
    "version": 3
   },
   "file_extension": ".py",
   "mimetype": "text/x-python",
   "name": "python",
   "nbconvert_exporter": "python",
   "pygments_lexer": "ipython3",
   "version": "3.6.9"
  }
 },
 "nbformat": 4,
 "nbformat_minor": 4
}
